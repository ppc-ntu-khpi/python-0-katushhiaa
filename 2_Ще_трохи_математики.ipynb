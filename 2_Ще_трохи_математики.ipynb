{
  "nbformat": 4,
  "nbformat_minor": 0,
  "metadata": {
    "colab": {
      "name": "2. Ще трохи математики",
      "provenance": [],
      "collapsed_sections": [],
      "toc_visible": true
    },
    "kernelspec": {
      "name": "python3",
      "display_name": "Python 3"
    },
    "language_info": {
      "name": "python"
    }
  },
  "cells": [
    {
      "cell_type": "markdown",
      "metadata": {
        "id": "nspjmpTrxgZS"
      },
      "source": [
        "# Ще трохи математики"
      ]
    },
    {
      "cell_type": "markdown",
      "metadata": {
        "id": "9NqHzlZ2xtID"
      },
      "source": [
        "1. Обчисліть радіус кола, знаючи його площу. Нагадаємо формулу:\n",
        "$$\n",
        "  S=\\pi*R^2 => R =\\sqrt{\\frac{S}{\\pi}}\n",
        "$$\n",
        "Для обчислення скористаємось знайомими функціями ```sqrt``` та ```pi``` з пакету ```math```.\n"
      ]
    },
    {
      "cell_type": "code",
      "metadata": {
        "colab": {
          "base_uri": "https://localhost:8080/"
        },
        "id": "csfYPusD0mWX",
        "outputId": "0b3e93d4-71db-4dea-c572-9b3a0b2e71b0"
      },
      "source": [
        "from math import sqrt,pi\n",
        "S = float(input('Введіть площу кола: '))\n",
        "r = sqrt(S/pi)\n",
        "print ('Радіус дорівнює %6.3f см' %r)"
      ],
      "execution_count": 1,
      "outputs": [
        {
          "output_type": "stream",
          "name": "stdout",
          "text": [
            "Введіть площу кола: 2\n",
            "Радіус дорівнює  0.798 см\n"
          ]
        }
      ]
    },
    {
      "cell_type": "markdown",
      "metadata": {
        "id": "e7Ed3mEp11Rw"
      },
      "source": [
        "2. А тепер за зразком знайдіть в наступній комірці площу сфери та об'єм кулі. Нагадуємо формули:\n",
        "$$\n",
        "  S=4*\\pi*R^2    \n",
        "$$\n",
        "$$\n",
        "  V=\\frac{4}{3}*\\pi*R^3\n",
        "$$\n",
        "Також нагадаємо, що ступінь в Python задається так: ```**```"
      ]
    },
    {
      "cell_type": "code",
      "metadata": {
        "id": "sTFMO4Xp3fgO",
        "outputId": "b02d5e06-e822-47b2-8c78-b19acb524c3b",
        "colab": {
          "base_uri": "https://localhost:8080/"
        }
      },
      "source": [
        "from math import pi\n",
        "r = float(input('Введіть радіус сфери: '))\n",
        "S = round(4*pi*r**2,2)\n",
        "print(\"Площа сфери S =\", S)\n",
        "\n",
        "r = float(input('\\nВведіть радіус кулі: '))\n",
        "V = round(4/3*pi*r**3,1)\n",
        "print(\"Об'єм кулi V =\", V)\n",
        "\n",
        "\n",
        "\n"
      ],
      "execution_count": 30,
      "outputs": [
        {
          "output_type": "stream",
          "name": "stdout",
          "text": [
            "Введіть радіус сфери: 6\n",
            "Площа сфери S = 452.39\n",
            "\n",
            "Введіть радіус кулі: 4\n",
            "Об'єм кулi V = 268,1\n"
          ]
        }
      ]
    },
    {
      "cell_type": "markdown",
      "metadata": {
        "id": "Ki46Slel5ASd"
      },
      "source": [
        "3. А ще давайте переведемо температуру за Фаренгейтом у градуси Цельсія і навпаки. Формули тут надзвичайно прості:\n",
        "$$\n",
        "  C=(F-32)*0.5556\n",
        "$$\n",
        "$$\n",
        "  F=C*1.8+32\n",
        "$$\n",
        "Спробуйте в наступній комірці! Пам'ятайте про \"красиве\" введення і виведення даних."
      ]
    },
    {
      "cell_type": "code",
      "metadata": {
        "id": "8yhfAwYm5E_z",
        "outputId": "fbaea9c3-2929-47fa-bc03-98e00acb65fd",
        "colab": {
          "base_uri": "https://localhost:8080/"
        }
      },
      "source": [
        "F=float(input(\"Введіть температуру в Фаренгейтах: \"))\n",
        "C=float(round((F-32)*0.5556,1))\n",
        "print(\"Температура в градусах Цельсіях = \", C)\n",
        "\n",
        "print(\"\\nТепер давай спробуємо навпаки\")\n",
        "\n",
        "C=float(input(\"\\nВведіть температуру в градусах Цельсіях: \"))\n",
        "F=float(round(C*1.8+32,1))\n",
        "print(\"Температура в Фаренгейтах = \", F)"
      ],
      "execution_count": 34,
      "outputs": [
        {
          "output_type": "stream",
          "name": "stdout",
          "text": [
            "Введіть температуру в Фаренгейтах: 50\n",
            "Температура в градусах Цельсіях =  10.0\n",
            "\n",
            "Тепер давай спробуємо навпаки\n",
            "\n",
            "Введіть температуру в градусах Цельсіях: 36\n",
            "Температура в Фаренгейтах =  96.8\n"
          ]
        }
      ]
    },
    {
      "cell_type": "markdown",
      "metadata": {
        "id": "rnapogmC6dta"
      },
      "source": [
        "Ще більше простих вправ з Python - [тут](https://www.w3resource.com/python-exercises/python-basic-exercises.php)"
      ]
    }
  ]
}
